{
 "cells": [
  {
   "cell_type": "markdown",
   "id": "rolled-proposal",
   "metadata": {},
   "source": [
    "---\n",
    "\n",
    "# BACKUP\n",
    "\n",
    "Code snippets (partially) considered for the main story, most intended to be run after already acquiring the data,  calculating thte second dose delay, and defining utility functions."
   ]
  },
  {
   "cell_type": "markdown",
   "id": "premier-initial",
   "metadata": {},
   "source": [
    "## weekly quantiles"
   ]
  },
  {
   "cell_type": "code",
   "execution_count": null,
   "id": "considerable-clothing",
   "metadata": {},
   "outputs": [],
   "source": [
    "weekly_avg = df[\"newTot\"].resample(\"W\", label=\"left\").mean()\n",
    "# label=\"left\" uses week start dates to label our averages, rather\n",
    "# than week end dates (which is the default)"
   ]
  },
  {
   "cell_type": "code",
   "execution_count": null,
   "id": "fitting-functionality",
   "metadata": {},
   "outputs": [],
   "source": [
    "# only keep the date (not time) to tidy up axis labels\n",
    "weekly_avg.index = weekly_avg.index.date\n",
    "\n",
    "plt.figure(figsize=figsize)\n",
    "weekly_avg.plot.barh()\n",
    "plt.xlabel(\"Mean Daily Doses [millions]\")\n",
    "plt.ylabel(\"Week Starting\")"
   ]
  },
  {
   "cell_type": "code",
   "execution_count": null,
   "id": "bronze-weekend",
   "metadata": {},
   "outputs": [],
   "source": [
    "quantiles = [0.1, 0.25, 0.75, 0.9]\n",
    "weekly_avg.quantile(q=quantiles)"
   ]
  },
  {
   "cell_type": "markdown",
   "id": "abroad-reflection",
   "metadata": {},
   "source": [
    "The quantile values above show that 25% of the weeks to date had daily averages of 0.36 million doses administered per day or lower, and 25% had more than 0.43 million doses per day (or equivalently 75% had 0.43 million or lower)."
   ]
  },
  {
   "cell_type": "code",
   "execution_count": null,
   "id": "nonprofit-acting",
   "metadata": {},
   "outputs": [],
   "source": [
    "forecast_q = {}\n",
    "daily_doses_q = {}\n",
    "\n",
    "for q in quantiles:\n",
    "    daily_doses_q[q] = weekly_avg.quantile(q=q)\n",
    "    forecast_q[q] = forecast_const(\n",
    "        df,\n",
    "        avg_second_delay,\n",
    "        daily_doses_q[q],\n",
    "        uk_pop=priority_totals[\"All Adults\"], \n",
    "    )\n"
   ]
  },
  {
   "cell_type": "code",
   "execution_count": null,
   "id": "blocked-honey",
   "metadata": {},
   "outputs": [],
   "source": [
    "plot_cumulative_doses(\n",
    "    df_forecast, forecast_date=last_data, figsize=(15, 8), \n",
    ")\n",
    "\n",
    "q_fill = [\n",
    "    # start quantile, end quantile, fill opacity (alpha)\n",
    "    (0.1, 0.25, 0.1),\n",
    "    (0.25, 0.75, 0.25),\n",
    "    (0.75, 0.9, 0.1)\n",
    "]\n",
    "\n",
    "for q_start, q_end, alpha in q_fill:\n",
    "    for column in [\"cumFirst\", \"cumSecond\"]:\n",
    "        plt.fill_between(\n",
    "            forecast_q[q_start].index,\n",
    "            forecast_q[q_start][column],\n",
    "            forecast_q[q_end][column],\n",
    "            color=col_format[column][\"color\"],\n",
    "            alpha=alpha,\n",
    "        )\n"
   ]
  },
  {
   "cell_type": "markdown",
   "id": "posted-spring",
   "metadata": {},
   "source": [
    "## Forecast with doses today = same as doses N days ago\n",
    "\n",
    "If the previous week repeated, when will each group be vaccinated?"
   ]
  },
  {
   "cell_type": "code",
   "execution_count": null,
   "id": "coordinated-victor",
   "metadata": {},
   "outputs": [],
   "source": [
    "def forecast_lookback(\n",
    "    df,\n",
    "    avg_second_delay,\n",
    "    days_lookback=7,\n",
    "    uk_pop=priority_totals[\"All Adults\"], \n",
    "    end_date=datetime(2021, 12, 1),\n",
    "):\n",
    "    \"\"\"\n",
    "    Forecast vaccine data assuming the number of vaccines given\n",
    "    today is the same as 'days_lookback' days ago.\n",
    "    \"\"\"\n",
    "    def lookback(df, date, days=days_lookback):\n",
    "        \"\"\"\n",
    "        Return total number of doses given a number of days before\n",
    "        the input date.\n",
    "        \"\"\"\n",
    "        if date - timedelta(days=days) < df.index.min():\n",
    "            return df.iloc[0][\"newTot\"]\n",
    "        else:\n",
    "            return df.loc[date - timedelta(days=days), \"newTot\"]\n",
    "\n",
    "    df_forecast = forecast_vaccines(\n",
    "        df,\n",
    "        avg_second_delay,\n",
    "        doses_fn=lookback,\n",
    "        uk_pop=uk_pop, \n",
    "        end_date=end_date,\n",
    "    )\n",
    "\n",
    "    return df_forecast\n"
   ]
  },
  {
   "cell_type": "code",
   "execution_count": null,
   "id": "tropical-mason",
   "metadata": {},
   "outputs": [],
   "source": [
    "df_forecast = forecast_lookback(df, avg_second_delay)"
   ]
  },
  {
   "cell_type": "code",
   "execution_count": null,
   "id": "nominated-tissue",
   "metadata": {},
   "outputs": [],
   "source": [
    "plt.figure(figsize=figsize)\n",
    "\n",
    "total = df_forecast[\"newTot\"]\n",
    "last_data = df.index.max()\n",
    "total[total.index <= last_data].plot(color=\"k\", label=\"Actual Total\", linewidth=3)\n",
    "total[total.index >= last_data].plot(color=\"k\", linestyle=\"--\", label=\"Forecast Total\")\n",
    "\n",
    "plt.legend(loc=\"upper left\")\n",
    "plt.ylim([0, 1.1 * total.max()])\n",
    "plt.ylabel(\"Total Doses [millions]\")"
   ]
  },
  {
   "cell_type": "markdown",
   "id": "satisfactory-manner",
   "metadata": {},
   "source": [
    "## Forecast - Random sample doses"
   ]
  },
  {
   "cell_type": "code",
   "execution_count": null,
   "id": "invisible-shaft",
   "metadata": {},
   "outputs": [],
   "source": [
    "import numpy as np\n",
    "from scipy.stats import lognorm\n",
    "import matplotlib.pyplot as plt\n",
    "\n",
    "data = df[\"newTot\"].dropna()\n",
    "\n",
    "s = lognorm.fit(data)\n",
    "print(s)\n",
    "plt.figure()\n",
    "sns.histplot(data, stat=\"density\", bins=20)\n",
    "x = np.linspace(0, 1, 100)\n",
    "y = lognorm.pdf(x, *s)\n",
    "plt.plot(x, y)\n",
    "plt.show()\n",
    "\n"
   ]
  },
  {
   "cell_type": "code",
   "execution_count": null,
   "id": "signed-business",
   "metadata": {},
   "outputs": [],
   "source": [
    "n_forecasts = 100\n",
    "rng = np.random.default_rng(seed=123)\n",
    "\n",
    "def rnd_doses(df, date):\n",
    "    return lognorm.rvs(*s, random_state=rng)\n",
    "\n",
    "\n",
    "rnd_forecasts = [\n",
    "    forecast_vaccines(\n",
    "        df,\n",
    "        avg_second_delay,\n",
    "        doses_fn=rnd_doses,\n",
    "        uk_pop=priority_totals[\"All Adults\"], \n",
    "        end_date=datetime(2021, 12, 31),\n",
    "        min_second_delay=28,\n",
    "    )\n",
    "    for _ in range(n_forecasts)\n",
    "]\n",
    "\n",
    "rnd_cumFirst = pd.concat(\n",
    "    [rnd_forecasts[i][\"cumFirst\"].rename(f\"forecast{i}\") for i in range(n_forecasts)],\n",
    "    axis=1, names=[0, 1]\n",
    ")\n",
    "rnd_cumSecond = pd.concat(\n",
    "    [rnd_forecasts[i][\"cumSecond\"].rename(f\"forecast{i}\") for i in range(n_forecasts)],\n",
    "    axis=1, names=[0, 1]\n",
    ")\n",
    "\n",
    "quantiles = [0.025, 0.25, 0.5, 0.75, 0.975]\n",
    "\n",
    "q_1st = rnd_cumFirst.quantile(quantiles, axis=1)\n",
    "q_2nd = rnd_cumSecond.quantile(quantiles, axis=1)\n",
    "\n",
    "plot_cumulative_doses(\n",
    "    pd.DataFrame({\"cumFirst\": q_1st.loc[0.5], \"cumSecond\": q_2nd.loc[0.5]}),\n",
    "    forecast_date=last_data, figsize=(15, 8), \n",
    ")\n",
    "\n",
    "q_fill = [\n",
    "    # start quantile, end quantile, fill opacity (alpha)\n",
    "    (0.025, 0.25, 0.1),\n",
    "    (0.25, 0.75, 0.25),\n",
    "    (0.75, 0.975, 0.1)\n",
    "]\n",
    "\n",
    "for q_start, q_end, alpha in q_fill:\n",
    "    plt.fill_between(\n",
    "        q_1st.loc[q_start].index,\n",
    "        q_1st.loc[q_start],\n",
    "        q_1st.loc[q_end],\n",
    "        color=col_format[\"cumFirst\"][\"color\"],\n",
    "        alpha=alpha,\n",
    "    )\n",
    "    plt.fill_between(\n",
    "        q_2nd.loc[q_start].index,\n",
    "        q_2nd.loc[q_start],\n",
    "        q_2nd.loc[q_end],\n",
    "        color=col_format[\"cumSecond\"][\"color\"],\n",
    "        alpha=alpha,\n",
    "    )"
   ]
  },
  {
   "cell_type": "code",
   "execution_count": null,
   "id": "confused-thursday",
   "metadata": {},
   "outputs": [],
   "source": [
    "rnd_newTot = pd.concat(\n",
    "    [rnd_forecasts[i][\"newTot\"].rename(f\"forecast{i}\") for i in range(n_forecasts)],\n",
    "    axis=1, names=[0, 1]\n",
    ")\n",
    "\n",
    "q_tot = rnd_newTot.quantile(quantiles, axis=1)\n",
    "\n",
    "plt.plot(q_tot.loc[0.975])\n",
    "plt.plot(q_tot.loc[0.025])"
   ]
  },
  {
   "cell_type": "code",
   "execution_count": null,
   "id": "passing-difficulty",
   "metadata": {},
   "outputs": [],
   "source": [
    "dates = [\n",
    "    d[d[\"cumSecond\"] >= priority_totals[\"All Adults\"] - 1e-9].index.min()\n",
    "    for d in rnd_forecasts\n",
    "]\n",
    "print(np.argmin(dates), min(dates))\n",
    "print(np.argmax(dates), max(dates))\n",
    "\n",
    "plt.figure(figsize=figsize)\n",
    "plt.plot(rnd_forecasts[np.argmin(dates)][\"newTot\"].rolling(window=7).mean())\n",
    "plt.plot(rnd_forecasts[np.argmax(dates)][\"newTot\"].rolling(window=7).mean())"
   ]
  },
  {
   "cell_type": "code",
   "execution_count": null,
   "id": "passing-office",
   "metadata": {},
   "outputs": [],
   "source": [
    "rnd_forecasts[np.argmax(dates)].loc[rnd_forecasts[np.argmax(dates)][\"newTot\"] > 0, \"newTot\"].mean()\n",
    "#0.37 -> 0.44"
   ]
  },
  {
   "cell_type": "markdown",
   "id": "tight-singapore",
   "metadata": {},
   "source": [
    "## Stability of Forecasts\n"
   ]
  },
  {
   "cell_type": "code",
   "execution_count": null,
   "id": "thick-promise",
   "metadata": {},
   "outputs": [],
   "source": [
    "def run_forecasts(\n",
    "    df,\n",
    "    run_start,\n",
    "    days_lookback=7,\n",
    "    uk_pop=priority_totals[\"All Adults\"], \n",
    "    end_date=datetime(2022, 3, 1)\n",
    "):\n",
    "    \"\"\"\n",
    "    Calculate the completion date of the UK vaccination programme\n",
    "    with different forecast start dates. A forecast is run as if\n",
    "    it was every day starting from the date run_start, up to the\n",
    "    date of the latest available data.\n",
    "    \"\"\"\n",
    "    forecast_start_dates = pd.date_range(    \n",
    "        start=run_start, end=df.index.max()\n",
    "    )\n",
    "    # fill missing second dose delay values with nearest available value\n",
    "    df[\"delaySecond\"] = df[\"delaySecond\"].bfill()\n",
    "\n",
    "    completion_dates = pd.Series(index=forecast_start_dates, dtype=float)\n",
    "    for forecast_start in forecast_start_dates:\n",
    "        second_delay = df.loc[forecast_start - timedelta(days=1), \"delaySecond\"]\n",
    "        df_forecast = forecast_lookback(\n",
    "            df[df.index <= forecast_start],\n",
    "            second_delay,\n",
    "            days_lookback=days_lookback,\n",
    "            uk_pop=uk_pop, \n",
    "            end_date=end_date\n",
    "        )\n",
    "        if df_forecast[\"cumSecond\"].max() >= (uk_pop - 1e-7):\n",
    "            finish_date = df_forecast[df_forecast[\"cumSecond\"] >= (uk_pop - 1e-7)].iloc[0].name\n",
    "            completion_dates.loc[forecast_start] = finish_date\n",
    "        else:\n",
    "            print(forecast_start.date(), \": Population not vaccinated by \", end_date.date())\n",
    "            completion_dates.loc[forecast_start] = end_date\n",
    "    \n",
    "    return completion_dates"
   ]
  },
  {
   "cell_type": "code",
   "execution_count": null,
   "id": "expressed-coordination",
   "metadata": {},
   "outputs": [],
   "source": [
    "completion_dates = run_forecasts(df, datetime(2021, 2, 1))"
   ]
  },
  {
   "cell_type": "code",
   "execution_count": null,
   "id": "northern-participation",
   "metadata": {},
   "outputs": [],
   "source": [
    "plt.figure(figsize=figsize)\n",
    "completion_dates.plot()\n",
    "plt.ylabel(\"Date Adult Population Fully Vaccinated\")\n",
    "plt.xlabel(\"Forecast Date\")"
   ]
  },
  {
   "cell_type": "markdown",
   "id": "activated-basis",
   "metadata": {},
   "source": [
    "Effect of Easter Bank Holiday\n",
    "\n",
    "Stabilised mid-September?\n",
    "\n",
    "There are several forecasts between late February and early March where the vaccine programme is not completed until January 2022, 2-3 months later than most forecasts at that time that have end dates in October. This looks a bit strange (why such big jumps?), but if we plot one of the forecasts with a late completion date we can see what's happening:"
   ]
  },
  {
   "cell_type": "code",
   "execution_count": null,
   "id": "bottom-picking",
   "metadata": {},
   "outputs": [],
   "source": [
    "df_feb24 = forecast_lookback(\n",
    "    df[df.index <= datetime(2021, 2, 24)],\n",
    "    df.loc[datetime(2021, 2, 24), \"delaySecond\"],\n",
    "    end_date=datetime(2022, 2, 1),\n",
    ")\n",
    "plot_cumulative_doses(\n",
    "    df_feb24,\n",
    "    forecast_date=datetime(2021, 2, 24),\n",
    "    figsize=(15, 8), \n",
    "    title=f\"UK Vaccination Forecast (using data up to {datetime(2021, 2, 24).date()})\"\n",
    ")"
   ]
  },
  {
   "cell_type": "markdown",
   "id": "humanitarian-object",
   "metadata": {},
   "source": [
    "In the plot above, we see that in this forecast almost all adults are fully vaccinated by 20th August. However, before the remaining first doses can be given, a new batch of people requiring their second dose appear and must be given priority (without spare capacity for new first doses). 73 days later, on 1st November, the last few adults can start to be given their first dose. You'll notice that this 73 day delay in giving the last first doses is closely linked to the 72 day gap we assumed earlier between giving first doses and second doses. We can think of vaccines being given in alternating 72 day cycles of 1st doses and 2nd doses (at least in our simple forecast), and in the example above we have had to go through one additional cycle to complete the vaccination programme (compared to most forecasts which have completion datea in autumn 2021).\n",
    "\n",
    "BUT\n",
    "- assuming whole pop gets vaccinated etc.\n",
    "- delay 2nd doses few days more in this case?"
   ]
  },
  {
   "cell_type": "markdown",
   "id": "second-colors",
   "metadata": {},
   "source": [
    "## prophet"
   ]
  },
  {
   "cell_type": "code",
   "execution_count": null,
   "id": "exact-posting",
   "metadata": {},
   "outputs": [],
   "source": [
    "from prophet import Prophet"
   ]
  },
  {
   "cell_type": "code",
   "execution_count": null,
   "id": "revolutionary-indiana",
   "metadata": {},
   "outputs": [],
   "source": [
    "\n",
    "df_prophet = pd.DataFrame(\n",
    "    {\"ds\": df.index, \"y\": df[\"newTot\"], \"cap\": df[\"cumTot\"]}\n",
    ")\n",
    "\n",
    "uk_pop = priority_totals[\"All Adults\"]\n",
    "#df_prophet[\"cap\"] = (2 * uk_pop) - df_prophet[\"cap\"]\n",
    "df_prophet[\"cap\"] = df[\"newTot\"].max()\n",
    "df_prophet[\"floor\"] = 0\n",
    "\n",
    "df_prophet\n"
   ]
  },
  {
   "cell_type": "code",
   "execution_count": null,
   "id": "considerable-sociology",
   "metadata": {},
   "outputs": [],
   "source": [
    "m = Prophet(interval_width=0.95, changepoint_prior_scale=0.1, growth=\"logistic\")\n",
    "m.add_country_holidays(country_name='UK')\n",
    "m.fit(df_prophet)\n",
    "#m.fit(df_prophet[df_prophet.index > datetime(2021, 2, 1)])\n",
    "#df_prophet_w = df_prophet.resample(\"W-MON\").mean()\n",
    "#df_prophet_w[\"ds\"] = df_prophet_w.index\n",
    "#m.fit(df_prophet_w)\n"
   ]
  },
  {
   "cell_type": "code",
   "execution_count": null,
   "id": "perfect-maryland",
   "metadata": {},
   "outputs": [],
   "source": [
    "future = m.make_future_dataframe(periods=150)\n",
    "future[\"cap\"] = df[\"newTot\"].max()\n",
    "future[\"floor\"] = 0\n",
    "\n",
    "forecast = m.predict(future)\n",
    "forecast"
   ]
  },
  {
   "cell_type": "code",
   "execution_count": null,
   "id": "established-benjamin",
   "metadata": {},
   "outputs": [],
   "source": [
    "m.plot(forecast);"
   ]
  },
  {
   "cell_type": "code",
   "execution_count": null,
   "id": "completed-input",
   "metadata": {},
   "outputs": [],
   "source": [
    "from prophet.plot import add_changepoints_to_plot\n",
    "fig = m.plot(forecast)\n",
    "a = add_changepoints_to_plot(fig.gca(), m, forecast)"
   ]
  },
  {
   "cell_type": "code",
   "execution_count": null,
   "id": "functional-vehicle",
   "metadata": {},
   "outputs": [],
   "source": [
    "m.plot_components(forecast);"
   ]
  },
  {
   "cell_type": "code",
   "execution_count": null,
   "id": "invalid-majority",
   "metadata": {},
   "outputs": [],
   "source": [
    "samples = m.predictive_samples(future)"
   ]
  },
  {
   "cell_type": "code",
   "execution_count": null,
   "id": "recovered-venue",
   "metadata": {},
   "outputs": [],
   "source": [
    "samples[\"trend\"]"
   ]
  },
  {
   "cell_type": "code",
   "execution_count": null,
   "id": "extraordinary-attack",
   "metadata": {},
   "outputs": [],
   "source": [
    "df[\"newTot\"].plot(marker=\"o\", linestyle=\"None\")\n",
    "m.predict(df_prophet).set_index(\"ds\")[\"yhat\"].plot()"
   ]
  },
  {
   "cell_type": "code",
   "execution_count": null,
   "id": "atomic-palmer",
   "metadata": {},
   "outputs": [],
   "source": [
    "forecast[[\"ds\", \"yhat_lower\", \"yhat\", \"yhat_upper\"]]"
   ]
  },
  {
   "cell_type": "code",
   "execution_count": null,
   "id": "fantastic-crime",
   "metadata": {},
   "outputs": [],
   "source": [
    "from prophet.diagnostics import cross_validation\n",
    "df_cv = cross_validation(m, horizon = '14 days')\n",
    "df_cv"
   ]
  },
  {
   "cell_type": "code",
   "execution_count": null,
   "id": "copyrighted-investigation",
   "metadata": {},
   "outputs": [],
   "source": [
    "from prophet.diagnostics import performance_metrics\n",
    "df_p = performance_metrics(df_cv)\n",
    "df_p"
   ]
  },
  {
   "cell_type": "code",
   "execution_count": null,
   "id": "important-vienna",
   "metadata": {},
   "outputs": [],
   "source": [
    "from prophet.plot import plot_cross_validation_metric\n",
    "fig = plot_cross_validation_metric(df_cv, metric='mape')\n"
   ]
  },
  {
   "cell_type": "code",
   "execution_count": null,
   "id": "czech-scale",
   "metadata": {},
   "outputs": [],
   "source": [
    "df.resample(\"W-MON\").mean()[\"newTot\"].plot()"
   ]
  }
 ],
 "metadata": {
  "kernelspec": {
   "display_name": "Python 3",
   "language": "python",
   "name": "python3"
  },
  "language_info": {
   "codemirror_mode": {
    "name": "ipython",
    "version": 3
   },
   "file_extension": ".py",
   "mimetype": "text/x-python",
   "name": "python",
   "nbconvert_exporter": "python",
   "pygments_lexer": "ipython3",
   "version": "3.8.8"
  }
 },
 "nbformat": 4,
 "nbformat_minor": 5
}
